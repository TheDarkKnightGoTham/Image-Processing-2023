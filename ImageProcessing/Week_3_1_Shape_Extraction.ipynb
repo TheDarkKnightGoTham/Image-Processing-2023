{
 "cells": [
  {
   "cell_type": "markdown",
   "metadata": {},
   "source": [
    "# Shape Extraction (for Region)\n",
    "* label concept\n",
    "* neighbor concept\n",
    "1. Connection\n",
    "2. Area\n",
    "3. Corner Codinate\n",
    "4. Width, Height, (Smallest Rectangle 1)"
   ]
  },
  {
   "cell_type": "code",
   "execution_count": 16,
   "metadata": {},
   "outputs": [],
   "source": [
    "import cv2 \n",
    "import numpy as np\n",
    "import matplotlib.pylab as plt\n",
    "\n",
    "def show(img):\n",
    "    rgb = cv2.cvtColor(img,cv2.COLOR_BGR2RGB)\n",
    "    plt.imshow(rgb,cmap=\"gray\")"
   ]
  },
  {
   "cell_type": "markdown",
   "metadata": {},
   "source": [
    "# Stack \n",
    "\n",
    "1. push value\n",
    "2. pop value\n",
    "3. check empty "
   ]
  },
  {
   "cell_type": "markdown",
   "metadata": {},
   "source": [
    "## Push Value"
   ]
  },
  {
   "cell_type": "code",
   "execution_count": 8,
   "metadata": {},
   "outputs": [
    {
     "data": {
      "text/plain": [
       "[(100, 200)]"
      ]
     },
     "execution_count": 8,
     "metadata": {},
     "output_type": "execute_result"
    }
   ],
   "source": [
    "stack_value = []\n",
    "stack_value.append((100,200))\n",
    "stack_value"
   ]
  },
  {
   "cell_type": "markdown",
   "metadata": {},
   "source": [
    "## Pop Value"
   ]
  },
  {
   "cell_type": "code",
   "execution_count": null,
   "metadata": {},
   "outputs": [],
   "source": [
    "pop_value = stack_value.pop()"
   ]
  },
  {
   "cell_type": "code",
   "execution_count": 13,
   "metadata": {},
   "outputs": [
    {
     "name": "stdout",
     "output_type": "stream",
     "text": [
      "Empty\n"
     ]
    }
   ],
   "source": [
    "if stack_value: \n",
    "    print(\"Khong rong\")\n",
    "else:\n",
    "    print(\"Empty\")\n",
    "    \n",
    "stack_value.append((40,50))"
   ]
  },
  {
   "cell_type": "code",
   "execution_count": 14,
   "metadata": {},
   "outputs": [
    {
     "data": {
      "text/plain": [
       "(40, 50)"
      ]
     },
     "execution_count": 14,
     "metadata": {},
     "output_type": "execute_result"
    }
   ],
   "source": [
    "pop_value = stack_value.pop()\n",
    "pop_value"
   ]
  },
  {
   "cell_type": "code",
   "execution_count": 10,
   "metadata": {},
   "outputs": [
    {
     "data": {
      "text/plain": [
       "(100, 200)"
      ]
     },
     "execution_count": 10,
     "metadata": {},
     "output_type": "execute_result"
    }
   ],
   "source": [
    "pop_value"
   ]
  },
  {
   "cell_type": "markdown",
   "metadata": {},
   "source": [
    "# List, min, max value of list"
   ]
  },
  {
   "cell_type": "code",
   "execution_count": null,
   "metadata": {},
   "outputs": [],
   "source": [
    "list_value = []\n",
    "list_value.append((100,200))\n",
    "\n",
    "value_1 = list_value[1]\n",
    "value_1"
   ]
  },
  {
   "cell_type": "markdown",
   "metadata": {},
   "source": [
    "# Connection Function"
   ]
  },
  {
   "cell_type": "code",
   "execution_count": 18,
   "metadata": {},
   "outputs": [
    {
     "data": {
      "image/png": "[encoded data removed]",
      "text/plain": [
       "<Figure size 640x480 with 1 Axes>"
      ]
     },
     "metadata": {},
     "output_type": "display_data"
    }
   ],
   "source": [
    "img = cv2.imread(\"images/mor3.png\")\n",
    "show(img)"
   ]
  },
  {
   "cell_type": "code",
   "execution_count": 23,
   "metadata": {},
   "outputs": [
    {
     "data": {
      "text/plain": [
       "<matplotlib.image.AxesImage at 0x21ff1591df0>"
      ]
     },
     "execution_count": 23,
     "metadata": {},
     "output_type": "execute_result"
    },
    {
     "data": {
      "image/png": "[encoded data removed]",
      "text/plain": [
       "<Figure size 640x480 with 1 Axes>"
      ]
     },
     "metadata": {},
     "output_type": "display_data"
    }
   ],
   "source": [
    "gray = cv2.cvtColor(img, cv2.COLOR_BGR2GRAY)\n",
    "T, threshold =cv2.threshold(gray, 200, 255, cv2.THRESH_BINARY)\n",
    "\n",
    "plt.imshow(threshold,cmap= 'gray')"
   ]
  },
  {
   "cell_type": "code",
   "execution_count": 20,
   "metadata": {},
   "outputs": [],
   "source": [
    "def connection(threshold, neighbor = 4):\n",
    "    \n",
    "    \"\"\"\n",
    "        threshold: anh sau khi nhi phan hoa (+ Morphological)\n",
    "        neighbor: So diem hang xom xung quanh pixel dang xet ( neighbor = 4 |  neighbor = 8)\n",
    "        \n",
    "        data: luu top ,left, width , height, area \n",
    "    \"\"\"\n",
    "    width  = threshold.shape[1]\n",
    "    height  = threshold.shape[0]\n",
    "    \n",
    "    labels = np.zeros((height,width),dtype=np.uint8)\n",
    "    data =[] \n",
    "    center =[]\n",
    "    num_obj = 0\n",
    "    current_label = 1\n",
    "    \n",
    "    for y in range(height):\n",
    "        for x in range(width):\n",
    "            \n",
    "            # Xet pixel dau tien de bat dau va pixel do chua duoc label\n",
    "            if threshold[y,x] ==255 and labels[y,x] ==0:\n",
    "                \n",
    "                stack_point=[(y,x)]\n",
    "                area = 0\n",
    "                left = x\n",
    "                top = y\n",
    "                bottom = y\n",
    "                right =x\n",
    "                while stack_point: # thuc hien block trong khi stack van con gia tri \n",
    "                    y, x = stack_point.pop()\n",
    "                    if labels[y,x] ==0:\n",
    "                        labels[y,x] = current_label\n",
    "                        area+=1 \n",
    "                        left = min(left,x)\n",
    "                        top = min(top,y)\n",
    "                        bottom = max  (bottom,y)\n",
    "                        right = max  (right,x)\n",
    "                        \n",
    "                    if neighbor ==4: \n",
    "                        \n",
    "                        if y > 0 and threshold[y-1,x] ==255 and labels[y-1,x] ==0: # TOP\n",
    "                            stack_point.append((y-1,x))\n",
    "                        \n",
    "                        if x < width-1 and threshold[y,x+1] ==255 and labels[y,x+1] ==0: # RIGHT\n",
    "                            stack_point.append((y,x+1))\n",
    "                        \n",
    "                        if y < height-1 and threshold[y+1,x] ==255 and labels[y+1,x] ==0: # BOTTOM\n",
    "                            stack_point.append((y+1,x))\n",
    "                        \n",
    "                        if x > 0 and threshold[y,x-1] == 255 and labels[y,x-1] ==0: # LEFT\n",
    "                            stack_point.append((y,x-1))   \n",
    "\n",
    "                        pass\n",
    "                    elif neighbor ==8:\n",
    "                        \n",
    "                        pass\n",
    "                    \n",
    "                current_label +=1\n",
    "                num_obj+=1\n",
    "                \n",
    "                c_x = left + (right - left)/2\n",
    "                c_y = top + (bottom - top)/2\n",
    "                data_temp = [(top,left),(right - left),bottom - top,(c_y, c_x),area]\n",
    "                data.append(data_temp)\n",
    "                \n",
    "    return num_obj,labels, data"
   ]
  },
  {
   "cell_type": "code",
   "execution_count": 25,
   "metadata": {},
   "outputs": [],
   "source": [
    "num_obj,labels, data = connection(threshold,neighbor= 4)"
   ]
  },
  {
   "cell_type": "code",
   "execution_count": 43,
   "metadata": {},
   "outputs": [
    {
     "data": {
      "text/plain": [
       "3"
      ]
     },
     "execution_count": 43,
     "metadata": {},
     "output_type": "execute_result"
    }
   ],
   "source": [
    "num_obj"
   ]
  },
  {
   "cell_type": "code",
   "execution_count": 29,
   "metadata": {},
   "outputs": [
    {
     "data": {
      "text/plain": [
       "array([[0, 0, 0, ..., 0, 0, 0],\n",
       "       [0, 0, 0, ..., 0, 0, 0],\n",
       "       [0, 0, 0, ..., 0, 0, 0],\n",
       "       ...,\n",
       "       [0, 0, 0, ..., 0, 0, 0],\n",
       "       [0, 0, 0, ..., 0, 0, 0],\n",
       "       [0, 0, 0, ..., 0, 0, 0]], dtype=uint8)"
      ]
     },
     "execution_count": 29,
     "metadata": {},
     "output_type": "execute_result"
    }
   ],
   "source": [
    "labels"
   ]
  },
  {
   "cell_type": "markdown",
   "metadata": {},
   "source": [
    "# Threshold T"
   ]
  },
  {
   "cell_type": "code",
   "execution_count": 38,
   "metadata": {},
   "outputs": [],
   "source": [
    "def threshold_range(img, T1, T2):\n",
    "    _,th1 = cv2.threshold(img, T1,255, cv2.THRESH_BINARY_INV)\n",
    "    _,th2 = cv2.threshold(img, T2,255, cv2.THRESH_BINARY_INV)\n",
    "    \n",
    "    th_range = cv2.bitwise_xor(th1,th2)\n",
    "    \n",
    "    return th_range"
   ]
  },
  {
   "cell_type": "code",
   "execution_count": 51,
   "metadata": {},
   "outputs": [
    {
     "name": "stdout",
     "output_type": "stream",
     "text": [
      "[(25, 68), 17, 16, (33.0, 76.5), 149]\n"
     ]
    },
    {
     "data": {
      "image/png": "[encoded data removed]",
      "text/plain": [
       "<Figure size 640x480 with 1 Axes>"
      ]
     },
     "metadata": {},
     "output_type": "display_data"
    }
   ],
   "source": [
    "region1 = threshold_range(labels,0,1)\n",
    "plt.imshow(region1,cmap=\"gray\")\n",
    "print(data[0])"
   ]
  },
  {
   "cell_type": "code",
   "execution_count": 52,
   "metadata": {},
   "outputs": [
    {
     "data": {
      "text/plain": [
       "<matplotlib.image.AxesImage at 0x21ff40b1400>"
      ]
     },
     "execution_count": 52,
     "metadata": {},
     "output_type": "execute_result"
    },
    {
     "data": {
      "image/png": "[encoded data removed]",
      "text/plain": [
       "<Figure size 640x480 with 1 Axes>"
      ]
     },
     "metadata": {},
     "output_type": "display_data"
    }
   ],
   "source": [
    "list_region = []\n",
    "for i in range(num_obj):\n",
    "    region = threshold_range(labels,i, i+1)\n",
    "    list_region.append(region)\n",
    "    \n",
    "\n",
    "plt.imshow(list_region[1],cmap=\"gray\")\n"
   ]
  },
  {
   "cell_type": "markdown",
   "metadata": {},
   "source": [
    "# OpenCV"
   ]
  },
  {
   "cell_type": "code",
   "execution_count": 55,
   "metadata": {},
   "outputs": [
    {
     "data": {
      "text/plain": [
       "(75, 100)"
      ]
     },
     "execution_count": 55,
     "metadata": {},
     "output_type": "execute_result"
    }
   ],
   "source": [
    "output = cv2.connectedComponentsWithStats(threshold, 4, cv2.CV_32S)\n",
    "threshold.shape"
   ]
  },
  {
   "cell_type": "code",
   "execution_count": 54,
   "metadata": {},
   "outputs": [
    {
     "data": {
      "text/plain": [
       "(4,\n",
       " array([[0, 0, 0, ..., 0, 0, 0],\n",
       "        [0, 0, 0, ..., 0, 0, 0],\n",
       "        [0, 0, 0, ..., 0, 0, 0],\n",
       "        ...,\n",
       "        [0, 0, 0, ..., 0, 0, 0],\n",
       "        [0, 0, 0, ..., 0, 0, 0],\n",
       "        [0, 0, 0, ..., 0, 0, 0]], dtype=int32),\n",
       " array([[   0,    0,  100,   75, 7137],\n",
       "        [  68,   25,   18,   17,  149],\n",
       "        [  33,   29,   21,   16,  135],\n",
       "        [  69,   49,    9,   11,   79]], dtype=int32),\n",
       " array([[48.78912708, 37.01471206],\n",
       "        [78.59060403, 30.02013423],\n",
       "        [41.02962963, 34.02962963],\n",
       "        [73.32911392, 53.91139241]]))"
      ]
     },
     "execution_count": 54,
     "metadata": {},
     "output_type": "execute_result"
    }
   ],
   "source": [
    "number_obj , labels, stats, center =  output"
   ]
  }
 ],
 "metadata": {
  "kernelspec": {
   "display_name": "Python 3",
   "language": "python",
   "name": "python3"
  },
  "language_info": {
   "codemirror_mode": {
    "name": "ipython",
    "version": 3
   },
   "file_extension": ".py",
   "mimetype": "text/x-python",
   "name": "python",
   "nbconvert_exporter": "python",
   "pygments_lexer": "ipython3",
   "version": "3.8.0"
  },
  "orig_nbformat": 4
 },
 "nbformat": 4,
 "nbformat_minor": 2
}
