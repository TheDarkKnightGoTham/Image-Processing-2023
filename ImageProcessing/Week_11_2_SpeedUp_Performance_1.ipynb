{
 "cells": [
  {
   "cell_type": "code",
   "execution_count": 2,
   "metadata": {},
   "outputs": [],
   "source": [
    "import cv2 \n",
    "import numpy as np\n",
    "import os\n",
    "if os.name ==\"window\" or os.name ==\"linux\": # MacOS: posix\n",
    "    import matplotlib.pylab as plt\n",
    "    \n",
    "import matplotlib.pylab as plt\n",
    "import math \n",
    "from function import Region\n",
    "from function import Contour\n",
    "from function import Image\n",
    "import dis\n",
    "import numba \n",
    "import time\n",
    "\n",
    "def showC(img):\n",
    "    rgb = cv2.cvtColor(img,cv2.COLOR_BGR2RGB)\n",
    "    plt.imshow(rgb,cmap=\"gray\")\n",
    "    \n",
    "def show(img):\n",
    "    plt.imshow(img,cmap=\"gray\")"
   ]
  },
  {
   "cell_type": "markdown",
   "metadata": {},
   "source": [
    "## Functions and Attributes of Functions\n",
    "* *args and **kwargs key word\n",
    "```\n",
    "*args\n",
    "**kwargs\n",
    "```\n",
    "* Somes Attribute of Functions\n",
    "```\n",
    "0. __doc__ \n",
    "1. __code__.co_code \n",
    "2. __code__.co_varnames\n",
    "3. __defaults__\n",
    "4. __name__\n",
    "5. __code__.co_argcount \n",
    "```"
   ]
  },
  {
   "cell_type": "code",
   "execution_count": 3,
   "metadata": {},
   "outputs": [
    {
     "name": "stdout",
     "output_type": "stream",
     "text": [
      "(10, 20, 300)\n",
      "-----------\n",
      "{'name': 'image', 'last_name': 'o', 'x': 10}\n"
     ]
    }
   ],
   "source": [
    "def funtions(*args, **kwargs): \n",
    "    \"\"\"\n",
    "        *args; x , \n",
    "        **kwargs: name =\"iuh\"\n",
    "    \"\"\"\n",
    "    \n",
    "    print(args)\n",
    "    print(\"-----------\")\n",
    "    print(kwargs)\n",
    "    \n",
    "    \n",
    "    \n",
    "funtions(10, 20, 300, name =\"image\", last_name = \"o\", x = 10)\n",
    "    "
   ]
  },
  {
   "cell_type": "code",
   "execution_count": 4,
   "metadata": {},
   "outputs": [
    {
     "name": "stdout",
     "output_type": "stream",
     "text": [
      "\n",
      "    Return sum a and b\n",
      "    \n",
      "    Parameters:\n",
      "        a (int, float, double): First number\n",
      "        b (int, float, double): Second number\n",
      "    \n",
      "    Return:\n",
      "        return a+b (int, double, float): Sum of a, b\n",
      "    \n",
      "    \n"
     ]
    }
   ],
   "source": [
    "def tinhtong(a, b = 10):\n",
    "    \"\"\"\n",
    "    Return sum a and b\n",
    "    \n",
    "    Parameters:\n",
    "        a (int, float, double): First number\n",
    "        b (int, float, double): Second number\n",
    "    \n",
    "    Return:\n",
    "        return a+b (int, double, float): Sum of a, b\n",
    "    \n",
    "    \"\"\"\n",
    "    \n",
    "    return a +b\n",
    "\n",
    "print(tinhtong.__doc__)"
   ]
  },
  {
   "cell_type": "code",
   "execution_count": 5,
   "metadata": {},
   "outputs": [
    {
     "name": "stdout",
     "output_type": "stream",
     "text": [
      "b'|\\x00|\\x01\\x17\\x00S\\x00'\n"
     ]
    }
   ],
   "source": [
    "print(tinhtong.__code__.co_code)"
   ]
  },
  {
   "cell_type": "code",
   "execution_count": 6,
   "metadata": {},
   "outputs": [
    {
     "name": "stdout",
     "output_type": "stream",
     "text": [
      " 14           0 LOAD_FAST                0 (a)\n",
      "              2 LOAD_FAST                1 (b)\n",
      "              4 BINARY_ADD\n",
      "              6 RETURN_VALUE\n"
     ]
    }
   ],
   "source": [
    "dis.dis(tinhtong)"
   ]
  },
  {
   "cell_type": "code",
   "execution_count": 7,
   "metadata": {},
   "outputs": [
    {
     "name": "stdout",
     "output_type": "stream",
     "text": [
      "\n",
      "    Return sum a and b\n",
      "    \n",
      "    Parameters:\n",
      "        a (int, float, double): First number\n",
      "        b (int, float, double): Second number\n",
      "    \n",
      "    Return:\n",
      "        return a+b (int, double, float): Sum of a, b\n",
      "    \n",
      "    \n"
     ]
    }
   ],
   "source": [
    "print(tinhtong.__doc__)"
   ]
  },
  {
   "cell_type": "code",
   "execution_count": 8,
   "metadata": {},
   "outputs": [
    {
     "name": "stdout",
     "output_type": "stream",
     "text": [
      "2\n",
      "(10,)\n",
      "('a', 'b')\n"
     ]
    }
   ],
   "source": [
    "print(tinhtong.__code__.co_argcount)\n",
    "print(tinhtong.__defaults__)\n",
    "print(tinhtong.__code__.co_varnames)"
   ]
  },
  {
   "cell_type": "code",
   "execution_count": 9,
   "metadata": {},
   "outputs": [
    {
     "name": "stdout",
     "output_type": "stream",
     "text": [
      "('threshold', 'min_value', 'max_value', 'feature', 'number_object', 'labels', 'stats', '_', 'list_width', 'list_height', 'list_area', 'result', 'list_output_width', 'list_output_height', 'list_output_area', 'list_region', 'idx', 'width', 'height', 'area', 'select_object')\n",
      "('width',)\n",
      "SelectShape\n",
      "None\n"
     ]
    }
   ],
   "source": [
    "from function import Region\n",
    "\n",
    "print(Region.SelectShape.__code__.co_varnames)\n",
    "print(Region.SelectShape.__defaults__)\n",
    "print(Region.SelectShape.__name__)\n",
    "print(Region.SelectShape.__doc__)"
   ]
  },
  {
   "cell_type": "markdown",
   "metadata": {},
   "source": [
    "## Calculate Time\n",
    "\n",
    "* Calculate execution time of functions or block code\n",
    "* Using time.time\n",
    "  ```\n",
    "  t0 = time.time()\n",
    "  t1 = time.time()\n",
    "  delta_t = t1 - t0 (seconds)\n",
    "  ```"
   ]
  },
  {
   "cell_type": "code",
   "execution_count": 10,
   "metadata": {},
   "outputs": [
    {
     "name": "stdout",
     "output_type": "stream",
     "text": [
      "Time execution: 2.001047134399414 (ms)\n"
     ]
    }
   ],
   "source": [
    "def sumC(n =1000):\n",
    "    s =0 \n",
    "    for i in range(n):\n",
    "        s += i**2\n",
    "        \n",
    "    return s\n",
    "\n",
    "t0 = time.time()\n",
    "# Do something\n",
    "sumC(10000)\n",
    "    \n",
    "t1 = time.time()\n",
    "print(f'Time execution: {(t1-t0)*1000} (ms)')"
   ]
  },
  {
   "cell_type": "code",
   "execution_count": 11,
   "metadata": {},
   "outputs": [
    {
     "name": "stdout",
     "output_type": "stream",
     "text": [
      "Time execution: 1.9993782043457031 (ms)\n"
     ]
    }
   ],
   "source": [
    "t0 = time.time()\n",
    "# Do something\n",
    "sumC(10000)\n",
    "t1 = time.time()\n",
    "print(f'Time execution: {(t1-t0)*1000} (ms)')"
   ]
  },
  {
   "cell_type": "markdown",
   "metadata": {},
   "source": [
    "## Decorator\n",
    "```\n",
    "@decorator\n",
    "```\n",
    "1. Apply decorator to calculate time execution\n",
    "2. Calclate time execution of some functions"
   ]
  },
  {
   "cell_type": "markdown",
   "metadata": {},
   "source": [
    "#### Fucntions as object"
   ]
  },
  {
   "cell_type": "code",
   "execution_count": 12,
   "metadata": {},
   "outputs": [
    {
     "data": {
      "text/plain": [
       "3"
      ]
     },
     "execution_count": 12,
     "metadata": {},
     "output_type": "execute_result"
    }
   ],
   "source": [
    "def tinhtong(a, b):\n",
    "    return a +b \n",
    "\n",
    "call_tinh_tong  = tinhtong\n",
    "call_tinh_tong (1,2)"
   ]
  },
  {
   "cell_type": "markdown",
   "metadata": {},
   "source": [
    "#### Passing functions as arguments"
   ]
  },
  {
   "cell_type": "code",
   "execution_count": 13,
   "metadata": {},
   "outputs": [
    {
     "data": {
      "text/plain": [
       "40"
      ]
     },
     "execution_count": 13,
     "metadata": {},
     "output_type": "execute_result"
    }
   ],
   "source": [
    "def call_tinh_tong(func):\n",
    "    \n",
    "    return func(20, 20)\n",
    "\n",
    "call_tinh_tong(tinhtong)"
   ]
  },
  {
   "cell_type": "markdown",
   "metadata": {},
   "source": [
    "#### Return functions in functions"
   ]
  },
  {
   "cell_type": "code",
   "execution_count": 14,
   "metadata": {},
   "outputs": [
    {
     "name": "stdout",
     "output_type": "stream",
     "text": [
      "This tinhtong functions took : 0.0 (ms)\n",
      "None\n"
     ]
    }
   ],
   "source": [
    "def call_tinh_tong(x): \n",
    "    \n",
    "    def tinhtong(y):  # tinhtong la mot ham can optimize\n",
    "        \n",
    "        t0 = time.time()\n",
    "        tong =x +y \n",
    "        t1 = time.time()\n",
    "        print(f'This {tinhtong.__name__} functions took : {round((t1-t0)*1000, 4)} (ms)')\n",
    "        return \n",
    "    \n",
    "    return tinhtong\n",
    "\n",
    "get_tinh_tong = call_tinh_tong(10)\n",
    "\n",
    "print(get_tinh_tong(20))"
   ]
  },
  {
   "cell_type": "code",
   "execution_count": 30,
   "metadata": {},
   "outputs": [
    {
     "name": "stdout",
     "output_type": "stream",
     "text": [
      "Function tinh_sigmal took: 0.0 (ms)\n"
     ]
    },
    {
     "data": {
      "text/plain": [
       "12000"
      ]
     },
     "execution_count": 30,
     "metadata": {},
     "output_type": "execute_result"
    }
   ],
   "source": [
    "def timer(func):\n",
    "    def wrapper( *args, **kwargs):\n",
    "        \n",
    "        #print(f'args of function {func.__name__}: {args}')\n",
    "        #print(f'kwargs of function {func.__name__}: {kwargs}')\n",
    "        \n",
    "        t0 = time.time()\n",
    "        result = func(*args, **kwargs)\n",
    "        t1 =time.time()\n",
    "        \n",
    "        print(f'Function {func.__name__} took: {round((t1-t0)* 1000, 4)} (ms)')\n",
    "        return result\n",
    "    return wrapper     \n",
    "\n",
    "@timer\n",
    "def tinh_sigmal(x, y):\n",
    "    s = 0\n",
    "    for i in range(x+y):\n",
    "        s +=1 \n",
    "    return s\n",
    "\n",
    "\n",
    "call_tinh_sigmal = tinh_sigmal \n",
    "\n",
    "call_tinh_sigmal(10000, y =2000)"
   ]
  },
  {
   "cell_type": "markdown",
   "metadata": {},
   "source": [
    "### Example (MinDistance between two contours)"
   ]
  },
  {
   "cell_type": "code",
   "execution_count": 16,
   "metadata": {},
   "outputs": [
    {
     "name": "stdout",
     "output_type": "stream",
     "text": [
      "2\n",
      "[[[613 265]]\n",
      "\n",
      " [[612 266]]\n",
      "\n",
      " [[611 266]]\n",
      "\n",
      " ...\n",
      "\n",
      " [[616 265]]\n",
      "\n",
      " [[615 265]]\n",
      "\n",
      " [[614 265]]]\n"
     ]
    },
    {
     "data": {
      "image/png": "[encoded data removed]",
      "text/plain": [
       "<Figure size 640x480 with 1 Axes>"
      ]
     },
     "metadata": {},
     "output_type": "display_data"
    }
   ],
   "source": [
    "\n",
    "img = cv2.imread(\"images/shape11_2.png\")\n",
    "\n",
    "gray = cv2.imread(\"images/shape11_2.png\",0)\n",
    "_, threshold = cv2.threshold(gray, 200, 255, cv2.THRESH_BINARY)\n",
    "\n",
    "contours, _ = cv2.findContours(threshold, cv2.RETR_EXTERNAL, cv2.CHAIN_APPROX_NONE)\n",
    "show(threshold)\n",
    "print(len(contours))\n",
    "print(contours[0])"
   ]
  },
  {
   "cell_type": "code",
   "execution_count": 17,
   "metadata": {},
   "outputs": [
    {
     "name": "stdout",
     "output_type": "stream",
     "text": [
      "613 265\n",
      "[613 265]\n"
     ]
    }
   ],
   "source": [
    "cnt1 = contours[0]\n",
    "cnt1 = np.squeeze(contours[0], axis = 1)\n",
    "x = cnt1[0][0]\n",
    "y = cnt1[0][1]\n",
    "print(x, y)\n",
    "print(cnt1[0])"
   ]
  },
  {
   "cell_type": "code",
   "execution_count": 18,
   "metadata": {},
   "outputs": [],
   "source": [
    "@timer\n",
    "def min_contours_distance(contour1, contour2):\n",
    "\n",
    "    number_point_contour1 = len(contour1)\n",
    "    number_point_contour2 = len(contour2)\n",
    "    \n",
    "    point1_min_x = 0\n",
    "    point1_min_y = 0\n",
    "    \n",
    "    point2_min_x = 0\n",
    "    point2_min_y = 0\n",
    "    \n",
    "    min_distance = 1e8\n",
    "    \n",
    "    for i in range(number_point_contour1):\n",
    "        for j in range(number_point_contour2):\n",
    "            \n",
    "            point1  = contour1[i]\n",
    "            point2  = contour2[j]\n",
    "            \n",
    "            x1, y1 = point1[0], point1[1]\n",
    "            x2, y2 = point2[0], point2[1]\n",
    "                        \n",
    "            dis = math.sqrt((x1-x2)**2 + (y1-y2)**2)\n",
    "            \n",
    "            if dis < min_distance :\n",
    "                min_distance = dis \n",
    "                \n",
    "                point1_min_x, point1_min_y = point1[0], point1[1]\n",
    "                point2_min_x, point2_min_y = point2[0], point2[1]\n",
    "\n",
    "    print((point1_min_x, point1_min_y))\n",
    "    print((point2_min_x, point2_min_y))\n",
    "    return min_distance , (point1_min_x, point1_min_y),(point2_min_x, point2_min_y)"
   ]
  },
  {
   "cell_type": "code",
   "execution_count": 290,
   "metadata": {},
   "outputs": [
    {
     "name": "stdout",
     "output_type": "stream",
     "text": [
      "args of function min_contours_distance: (array([[613, 265],\n",
      "       [612, 266],\n",
      "       [611, 266],\n",
      "       ...,\n",
      "       [616, 265],\n",
      "       [615, 265],\n",
      "       [614, 265]], dtype=int32), array([[155,  59],\n",
      "       [154,  60],\n",
      "       [153,  60],\n",
      "       ...,\n",
      "       [158,  59],\n",
      "       [157,  59],\n",
      "       [156,  59]], dtype=int32))\n",
      "kwargs of function min_contours_distance: {}\n",
      "(406, 440)\n",
      "(282, 193)\n",
      "Function min_contours_distance took: 975.5771 (ms)\n",
      "(276.3783638420345, (406, 440), (282, 193))\n"
     ]
    }
   ],
   "source": [
    "cnt1 = np.squeeze(contours[0], axis = 1)\n",
    "cnt2 = np.squeeze(contours[1], axis = 1)\n",
    "\n",
    "minDis = min_contours_distance(cnt1, cnt2)\n",
    "print(minDis)"
   ]
  },
  {
   "cell_type": "markdown",
   "metadata": {},
   "source": [
    "### Draw minimum distance"
   ]
  },
  {
   "cell_type": "code",
   "execution_count": 20,
   "metadata": {},
   "outputs": [
    {
     "data": {
      "image/png": "[encoded data removed]",
      "text/plain": [
       "<Figure size 640x480 with 1 Axes>"
      ]
     },
     "metadata": {},
     "output_type": "display_data"
    }
   ],
   "source": [
    "img_copy = img.copy()\n",
    "\n",
    "cv2.line(img_copy, (406, 440), (282, 193), (0,0,255), 2)\n",
    "cv2.circle(img_copy , (406, 440), 3, (0,255,255), 5)\n",
    "cv2.circle(img_copy , (282, 193), 3, (0,255,255), 5)\n",
    "\n",
    "showC(img_copy)"
   ]
  },
  {
   "cell_type": "markdown",
   "metadata": {},
   "source": [
    "### Find minimum in numpy"
   ]
  },
  {
   "cell_type": "code",
   "execution_count": 21,
   "metadata": {},
   "outputs": [
    {
     "name": "stdout",
     "output_type": "stream",
     "text": [
      "(815, 1, 2)\n"
     ]
    }
   ],
   "source": [
    "cnt = contours[0]\n",
    "print(cnt.shape)"
   ]
  },
  {
   "cell_type": "code",
   "execution_count": 22,
   "metadata": {},
   "outputs": [
    {
     "name": "stdout",
     "output_type": "stream",
     "text": [
      "1\n",
      "4\n"
     ]
    }
   ],
   "source": [
    "a = np.array([12,2,3,5,1])\n",
    "\n",
    "print(np.amin(a))\n",
    "print(np.argmin(a))"
   ]
  },
  {
   "cell_type": "code",
   "execution_count": 298,
   "metadata": {},
   "outputs": [],
   "source": [
    "@timer\n",
    "def min_contours_distance_numpy(contours1:np.array, contours2:np.array) -> (np.array,np.array):\n",
    "    contours1 = contours1.astype(np.float32)\n",
    "    contours2 = contours2.astype(np.float32)\n",
    "    \n",
    "    min_distance    = np.empty(len(contours1), dtype = np.float32)\n",
    "    pointIndex    = np.empty(len(contours1) , dtype = np.float32)\n",
    "    \n",
    "    x_2 = contours2[: ,0, 0]\n",
    "    y_2 = contours2[: ,0, 1]\n",
    "    \n",
    "    for i in range(len(contours1)):\n",
    "        \n",
    "        x_1 = contours1[i, 0, 0]\n",
    "        y_1 = contours1[i, 0, 1]\n",
    "\n",
    "        diff_x = x_1 - x_2 \n",
    "        diff_y = y_1 - y_2\n",
    "        \n",
    "        dis = diff_x**2  + diff_y**2\n",
    "        \n",
    "        min_distance[i]     = np.sqrt(np.amin(dis))\n",
    "        pointIndex [i]     = np.argmin(dis)\n",
    "        \n",
    "    return min_distance, pointIndex"
   ]
  },
  {
   "cell_type": "code",
   "execution_count": 295,
   "metadata": {},
   "outputs": [
    {
     "name": "stdout",
     "output_type": "stream",
     "text": [
      "Function min_contours_distance_numpy took: 18.1441 (ms)\n",
      "276\n",
      "399\n"
     ]
    }
   ],
   "source": [
    "min_distance, pointIndex = min_contours_distance_numpy(contours[0],contours[1])\n",
    "\n",
    "index_point_contour1 = np.argmin(min_distance)\n",
    "index_point_contour2 = int(pointIndex[index_point_contour1])\n",
    "\n",
    "print(index_point_contour1)\n",
    "print(index_point_contour2)\n",
    "# (406, 440), (282, 193)\n"
   ]
  },
  {
   "cell_type": "code",
   "execution_count": 179,
   "metadata": {},
   "outputs": [
    {
     "name": "stdout",
     "output_type": "stream",
     "text": [
      "[406, 440]\n",
      "[282, 193]\n"
     ]
    }
   ],
   "source": [
    "point1 = contours[0][index_point_contour1].tolist()[0]\n",
    "point2 = contours[1][index_point_contour2].tolist()[0]\n",
    "print(point1)\n",
    "print(point2)"
   ]
  },
  {
   "cell_type": "markdown",
   "metadata": {},
   "source": [
    "### Draw result"
   ]
  },
  {
   "cell_type": "code",
   "execution_count": 187,
   "metadata": {},
   "outputs": [
    {
     "data": {
      "image/png": "[encoded data removed]",
      "text/plain": [
       "<Figure size 640x480 with 1 Axes>"
      ]
     },
     "metadata": {},
     "output_type": "display_data"
    }
   ],
   "source": [
    "img_copy = img.copy()\n",
    "\n",
    "cv2.line(img_copy, tuple(point1), tuple(point2), (0,255,255), 2)\n",
    "cv2.circle(img_copy , tuple(point1), 4, (0,0,255), 6)\n",
    "cv2.circle(img_copy , tuple(point2), 4, (0,0,255), 6)\n",
    "\n",
    "showC(img_copy)"
   ]
  },
  {
   "cell_type": "markdown",
   "metadata": {},
   "source": [
    "## Python Compilation/Interpretation Process\n",
    "1. Assumption have fibonacy functions and Bytecode "
   ]
  },
  {
   "cell_type": "code",
   "execution_count": 25,
   "metadata": {},
   "outputs": [],
   "source": [
    "def fibonacy(x):\n",
    "    if x==1 or x ==2 :return 1\n",
    "    return fibonacy (x-2) + fibonacy (x-1)\n",
    "\n",
    "def factorial(x):\n",
    "    if x == 0: return 1\n",
    "    return x * factorial(x-1)"
   ]
  },
  {
   "cell_type": "code",
   "execution_count": 26,
   "metadata": {},
   "outputs": [
    {
     "name": "stdout",
     "output_type": "stream",
     "text": [
      "  2           0 LOAD_FAST                0 (x)\n",
      "              2 LOAD_CONST               1 (1)\n",
      "              4 COMPARE_OP               2 (==)\n",
      "              6 POP_JUMP_IF_TRUE        16\n",
      "              8 LOAD_FAST                0 (x)\n",
      "             10 LOAD_CONST               2 (2)\n",
      "             12 COMPARE_OP               2 (==)\n",
      "             14 POP_JUMP_IF_FALSE       20\n",
      "        >>   16 LOAD_CONST               1 (1)\n",
      "             18 RETURN_VALUE\n",
      "\n",
      "  3     >>   20 LOAD_GLOBAL              0 (fibonacy)\n",
      "             22 LOAD_FAST                0 (x)\n",
      "             24 LOAD_CONST               2 (2)\n",
      "             26 BINARY_SUBTRACT\n",
      "             28 CALL_FUNCTION            1\n",
      "             30 LOAD_GLOBAL              0 (fibonacy)\n",
      "             32 LOAD_FAST                0 (x)\n",
      "             34 LOAD_CONST               1 (1)\n",
      "             36 BINARY_SUBTRACT\n",
      "             38 CALL_FUNCTION            1\n",
      "             40 BINARY_ADD\n",
      "             42 RETURN_VALUE\n"
     ]
    }
   ],
   "source": [
    "# This is byteCode \n",
    "dis.dis(fibonacy) "
   ]
  },
  {
   "cell_type": "code",
   "execution_count": 27,
   "metadata": {},
   "outputs": [
    {
     "name": "stdout",
     "output_type": "stream",
     "text": [
      "  6           0 LOAD_FAST                0 (x)\n",
      "              2 LOAD_CONST               1 (0)\n",
      "              4 COMPARE_OP               2 (==)\n",
      "              6 POP_JUMP_IF_FALSE       12\n",
      "              8 LOAD_CONST               2 (1)\n",
      "             10 RETURN_VALUE\n",
      "\n",
      "  7     >>   12 LOAD_FAST                0 (x)\n",
      "             14 LOAD_GLOBAL              0 (factorial)\n",
      "             16 LOAD_FAST                0 (x)\n",
      "             18 LOAD_CONST               2 (1)\n",
      "             20 BINARY_SUBTRACT\n",
      "             22 CALL_FUNCTION            1\n",
      "             24 BINARY_MULTIPLY\n",
      "             26 RETURN_VALUE\n"
     ]
    }
   ],
   "source": [
    "dis.dis(factorial)"
   ]
  }
 ],
 "metadata": {
  "kernelspec": {
   "display_name": "Python 3",
   "language": "python",
   "name": "python3"
  },
  "language_info": {
   "codemirror_mode": {
    "name": "ipython",
    "version": 3
   },
   "file_extension": ".py",
   "mimetype": "text/x-python",
   "name": "python",
   "nbconvert_exporter": "python",
   "pygments_lexer": "ipython3",
   "version": "3.8.0"
  }
 },
 "nbformat": 4,
 "nbformat_minor": 2
}
