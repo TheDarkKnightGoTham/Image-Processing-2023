{
 "cells": [
  {
   "cell_type": "code",
   "execution_count": 8,
   "metadata": {},
   "outputs": [],
   "source": [
    "import cv2 \n",
    "import numpy as np\n",
    "import matplotlib.pylab as plt\n",
    "import math \n",
    "from function import SelectShapeStd\n",
    "def showC(img):\n",
    "    rgb = cv2.cvtColor(img,cv2.COLOR_BGR2RGB)\n",
    "    plt.imshow(rgb,cmap=\"gray\")\n",
    "    \n",
    "def show(img):\n",
    "    plt.imshow(img,cmap=\"gray\")"
   ]
  },
  {
   "cell_type": "markdown",
   "metadata": {},
   "source": [
    "# Week10_2\n",
    "1. Class and OOP\n",
    "2. map, interable and applications\n",
    "3. Recursiveand and applications (factorial, fibonacy and stackover flow)\n",
    "4. Minimum End Closing Cricle Algorithm (Smallest Rectangle)"
   ]
  },
  {
   "cell_type": "markdown",
   "metadata": {},
   "source": [
    "## **Class**"
   ]
  },
  {
   "cell_type": "code",
   "execution_count": 36,
   "metadata": {},
   "outputs": [
    {
     "name": "stdout",
     "output_type": "stream",
     "text": [
      "Toa do x: 3\n",
      "Toa do y: 4\n"
     ]
    }
   ],
   "source": [
    "class Point():\n",
    "    \"\"\"\n",
    "        public:     self.x      (bien, method)\n",
    "        protected:  self._x     (bien, method)\n",
    "        private:    self.__x    (bien, method)\n",
    "    \n",
    "    \"\"\"\n",
    "    def __init__(self,  _x= 0, _y=0):\n",
    "        \n",
    "        self.x = _x \n",
    "        self.y = _y\n",
    "        \n",
    "        \n",
    "    def __distance(self): # Regular method (Chi co the goi no tu instance cua class)\n",
    "        \"\"\"\n",
    "            Tinh khoang cach tu diem to goc toa do O(0,0)\n",
    "        \"\"\"\n",
    "        dis = math.sqrt( self.x **2 + self.y**2)\n",
    "        return dis\n",
    "    \n",
    "    def get_dis(self):\n",
    "        return self.__distance()\n",
    "     \n",
    "    @staticmethod   \n",
    "    def distance_static(x,y):\n",
    "        \n",
    "        dis = math.sqrt(x **2 +y**2)\n",
    "        return dis\n",
    "            \n",
    "    \n",
    "def distance_two_point(point1 : Point, point2 : Point )->float:   \n",
    "    \n",
    "    dis = math.sqrt((point1.x - point2.x) **2 + (point1.y - point2.y)**2)\n",
    "    return dis\n",
    "       \n",
    "point  = Point(3,4)\n",
    "\n",
    "print(f'Toa do x: {point.x}')\n",
    "print(f'Toa do y: {point.y}')"
   ]
  },
  {
   "cell_type": "code",
   "execution_count": 35,
   "metadata": {},
   "outputs": [
    {
     "name": "stdout",
     "output_type": "stream",
     "text": [
      "Khoang cach tu diem toi goc toa do; 5.0\n"
     ]
    }
   ],
   "source": [
    "dis  = point.get_dis()\n",
    "print(f'Khoang cach tu diem toi goc toa do; {dis}')"
   ]
  },
  {
   "cell_type": "code",
   "execution_count": 24,
   "metadata": {},
   "outputs": [
    {
     "name": "stdout",
     "output_type": "stream",
     "text": [
      "Khoang cach tu diem toi goc toa do; 5.0\n"
     ]
    }
   ],
   "source": [
    "dis  = Point.distance_static(3,4)\n",
    "print(f'Khoang cach tu diem toi goc toa do; {dis}')"
   ]
  },
  {
   "cell_type": "markdown",
   "metadata": {},
   "source": [
    "### Distance 2 two"
   ]
  },
  {
   "cell_type": "code",
   "execution_count": 37,
   "metadata": {},
   "outputs": [
    {
     "name": "stdout",
     "output_type": "stream",
     "text": [
      "Khoang cach giua 2 point: 10.0\n"
     ]
    }
   ],
   "source": [
    "point1 = Point(0,0)\n",
    "point2 = Point(6,8)\n",
    "\n",
    "dis = distance_two_point(point1,point2)\n",
    "print(f'Khoang cach giua 2 point: {dis}')"
   ]
  },
  {
   "cell_type": "code",
   "execution_count": 55,
   "metadata": {},
   "outputs": [],
   "source": [
    "class Circle():\n",
    "    \"\"\"\n",
    "        1. Tam duong tron <=> bieu thi bang class Point\n",
    "        2. Ban kinh R (int, float)\n",
    "    \n",
    "    \"\"\"\n",
    "    \n",
    "    def __init__(self, _center = Point(), _r = 0):\n",
    "        self.center = _center\n",
    "        self.r = _r\n",
    "        \n",
    "\n",
    "    def is_inside(self,point:Point) -> bool:\n",
    "        \n",
    "        distance = distance_two_point(self.center, point)\n",
    "        \n",
    "        if distance <= self.r:\n",
    "            return True\n",
    "    \n",
    "        else :\n",
    "            return False"
   ]
  },
  {
   "cell_type": "code",
   "execution_count": 56,
   "metadata": {},
   "outputs": [
    {
     "name": "stdout",
     "output_type": "stream",
     "text": [
      "Tam cua duong tron co toa do x:15 -  y:10\n",
      "Ban kinh cua duong la:20\n"
     ]
    }
   ],
   "source": [
    "circle = Circle(Point(15,10) , _r = 20)\n",
    "pointA = Point(3,6)\n",
    "\n",
    "print(f'Tam cua duong tron co toa do x:{circle.center.x} -  y:{circle.center.y}')\n",
    "print(f'Ban kinh cua duong la:{circle.r}')"
   ]
  },
  {
   "cell_type": "code",
   "execution_count": 57,
   "metadata": {},
   "outputs": [
    {
     "name": "stdout",
     "output_type": "stream",
     "text": [
      "pointA thuoc duong tron\n"
     ]
    }
   ],
   "source": [
    "if circle.is_inside(pointA) : \n",
    "    print(f'pointA thuoc duong tron')\n",
    "else:\n",
    "    print(f'pointA khong thuoc duong tron')"
   ]
  },
  {
   "cell_type": "markdown",
   "metadata": {},
   "source": [
    "### Find Circle from 2 point"
   ]
  },
  {
   "cell_type": "code",
   "execution_count": 82,
   "metadata": {},
   "outputs": [],
   "source": [
    "def get_circle_from_two_point(point1:Point , point2:Point ) -> Circle:\n",
    "    \n",
    "    center_x = (point1.x + point2.x) / 2 \n",
    "    center_y = (point1.y + point2.y) / 2 \n",
    "    \n",
    "    center_point = Point(center_x, center_y)\n",
    "    \n",
    "    r = distance_two_point(point1, point2)  / 2 \n",
    "    \n",
    "    return Circle(center_point, r)"
   ]
  },
  {
   "cell_type": "code",
   "execution_count": 83,
   "metadata": {},
   "outputs": [
    {
     "name": "stdout",
     "output_type": "stream",
     "text": [
      "3.0 0.0\n",
      "1.0\n"
     ]
    }
   ],
   "source": [
    "p1 = Point(4,0)\n",
    "p2 = Point(2,0)\n",
    "cirle_two_point = get_circle_from_two_point(p1, p2)\n",
    "\n",
    "print(cirle_two_point.center.x, cirle_two_point.center.y)\n",
    "print(cirle_two_point.r)"
   ]
  },
  {
   "cell_type": "markdown",
   "metadata": {},
   "source": [
    "### Find Circle from 3 point"
   ]
  },
  {
   "cell_type": "code",
   "execution_count": 74,
   "metadata": {},
   "outputs": [],
   "source": [
    "def find_formula_line(point1, point2): # (point1_x, point1_y)\n",
    "    # song song voi truc Ox thi y = nhau\n",
    "    x1,y1 = point1\n",
    "    x2,y2 = point2\n",
    "\n",
    "    if y1 == y2:\n",
    "        A = 0\n",
    "        B = 1\n",
    "        C = - y1\n",
    "\n",
    "    # song song voi truc Oy thi x = nhau\n",
    "    elif x1 == x2:\n",
    "        A = 1\n",
    "        B = 0\n",
    "        C = - x1\n",
    "        \n",
    "    # cat ox, oy   \n",
    "    else:\n",
    "        A = (y1 - y2)/(x1-x2)\n",
    "        B = -1\n",
    "        C = y2 - A * x2\n",
    "\n",
    "    return A, B, C\n",
    "\n",
    "def line_intersection(line1, line2):\n",
    "    \n",
    "    A1, B1, C1 = line1\n",
    "    A2, B2, C2 = line2\n",
    "    \n",
    "    det_x = B1*C2  - B2*C1\n",
    "    det_y = A2*C1 - A1*C2 \n",
    "    \n",
    "    det = A1*B2 - A2*B1 \n",
    "    \n",
    "    if det == 0 :\n",
    "        # Khong co giao diem giua 2 duong thang\n",
    "        return ()\n",
    "    \n",
    "    x = det_x / det\n",
    "    y = det_y / det\n",
    "    \n",
    "    return (x, y )\n",
    "\n",
    "def find_perpendicular_line(p1, line):\n",
    "    \n",
    "    x1, y1 = p1\n",
    "    \n",
    "    A, B, C = line\n",
    "    \n",
    "    return (-B,A, B*x1 -A*y1 )"
   ]
  },
  {
   "cell_type": "code",
   "execution_count": 86,
   "metadata": {},
   "outputs": [],
   "source": [
    "def get_circle_from_three_point(point1:Point , point2:Point , point3:Point):\n",
    "    \n",
    "    # Lay canh p1p2, p2p3 -> Tim phuong trinh duong thang\n",
    "    A1, B1, C1 = find_formula_line((point1.x, point1.y) , (point2.x, point2.y))\n",
    "    A2, B2, C2 = find_formula_line((point3.x, point3.y) , (point2.x, point2.y))\n",
    "    \n",
    "    \n",
    "    # Tim phuong trinh duong thanh di qua trung diem va vuong goc\n",
    "    middle_1 = (abs(point1.x + point2.x) / 2 , abs(point1.y + point2.y) /2 ) \n",
    "    middle_2 = (abs(point3.x + point2.x) / 2 , abs(point3.y + point2.y) /2 ) \n",
    "    \n",
    "    \n",
    "    A11 , B11, C11 = find_perpendicular_line(middle_1, (A1, B1, C1 ))\n",
    "    A22 , B22, C22 = find_perpendicular_line(middle_2, (A2, B2, C2 ))\n",
    "    \n",
    "    # Tim intersection -> center of Circle\n",
    "    intersec_x, intersex_y = line_intersection((A11 , B11, C11) , (A22 , B22, C22))\n",
    "    print(intersec_x, intersex_y)\n",
    "    \n",
    "    # Tim ban kinh D (center, point1)\n",
    "    \n",
    "    r = distance_two_point(point1,  Point(intersec_x, intersex_y))\n",
    "    \n",
    "    return Circle( _center = Point(intersec_x, intersex_y),  _r = r )\n",
    "    \n",
    "    "
   ]
  },
  {
   "cell_type": "code",
   "execution_count": 87,
   "metadata": {},
   "outputs": [
    {
     "name": "stdout",
     "output_type": "stream",
     "text": [
      "5.0 2.5\n",
      "5.0 2.5\n",
      "3.2015621187164243\n"
     ]
    }
   ],
   "source": [
    "circle_three_point = get_circle_from_three_point(\n",
    "    Point(3,0), Point(7,0), Point(3,5)\n",
    ")\n",
    "\n",
    "print(circle_three_point.center.x, circle_three_point.center.y)\n",
    "print(circle_three_point.r)"
   ]
  },
  {
   "cell_type": "code",
   "execution_count": 88,
   "metadata": {},
   "outputs": [
    {
     "data": {
      "text/plain": [
       "3.2015621187164243"
      ]
     },
     "execution_count": 88,
     "metadata": {},
     "output_type": "execute_result"
    }
   ],
   "source": [
    "math.sqrt(2**2 + 2.5**2)"
   ]
  },
  {
   "cell_type": "markdown",
   "metadata": {},
   "source": [
    "## **map, interable and applications**"
   ]
  },
  {
   "cell_type": "code",
   "execution_count": 124,
   "metadata": {},
   "outputs": [
    {
     "name": "stdout",
     "output_type": "stream",
     "text": [
      "<__main__.Point object at 0x0000020EC947D820> <__main__.Point object at 0x0000020EC94AD3D0>\n",
      "<__main__.Point object at 0x0000020EC947D640> <__main__.Point object at 0x0000020EC94AD070>\n",
      "<__main__.Point object at 0x0000020EC947D1F0> <__main__.Point object at 0x0000020EC953F0A0>\n",
      "<__main__.Point object at 0x0000020EC947DFA0> <__main__.Point object at 0x0000020EC947D8E0>\n",
      "<__main__.Point object at 0x0000020EC947D610> <__main__.Point object at 0x0000020EC947D0D0>\n",
      "----------------------------------------\n",
      "<__main__.Point object at 0x0000020EC947D820>\n",
      "<__main__.Point object at 0x0000020EC947D640>\n",
      "<__main__.Point object at 0x0000020EC947D1F0>\n",
      "<__main__.Point object at 0x0000020EC947DFA0>\n",
      "<__main__.Point object at 0x0000020EC947D610>\n"
     ]
    }
   ],
   "source": [
    "list_point = [ \n",
    "        Point(1,0),\n",
    "        Point(2,0),\n",
    "        Point(3,0),\n",
    "        Point(4,0),\n",
    "        Point(5,0),\n",
    "        ]\n",
    "\n",
    "list_point_1 = [ \n",
    "        Point(0,0),\n",
    "        Point(0,0),\n",
    "        Point(0,0),\n",
    "        Point(0,0),\n",
    "        Point(0,0),\n",
    "        ]\n",
    "\n",
    "combine = zip (list_point,list_point_1)\n",
    "for interator1,interator2  in combine:\n",
    "        print(interator1, interator2)\n",
    "\n",
    "point_O = Point(0,0)\n",
    "\n",
    "print(f'--'*20)\n",
    "\n",
    "for interator in list_point:\n",
    "    print(interator)   \n",
    "#     dis = distance_two_point(point_O, interator)\n",
    "#     print(dis)"
   ]
  },
  {
   "cell_type": "code",
   "execution_count": 157,
   "metadata": {},
   "outputs": [],
   "source": [
    "def distance_point(object1):\n",
    "    \n",
    "    point1 = object1[0]\n",
    "    point_center = object1[1]\n",
    "    \n",
    "    return distance_two_point(point1,point_center)"
   ]
  },
  {
   "cell_type": "code",
   "execution_count": 161,
   "metadata": {},
   "outputs": [
    {
     "name": "stdout",
     "output_type": "stream",
     "text": [
      "[1.0, 2.0, 3.0, 4.0, 5.0]\n"
     ]
    }
   ],
   "source": [
    "list_distance = (map(distance_point, zip(list_point, list_point_1)))\n",
    "print(list(list_distance))"
   ]
  },
  {
   "cell_type": "markdown",
   "metadata": {},
   "source": [
    "## **Recursiveand and applications (factorial, fibonacy and stackover flow)**"
   ]
  },
  {
   "cell_type": "code",
   "execution_count": 128,
   "metadata": {},
   "outputs": [],
   "source": [
    "def factorial(x):\n",
    "    \n",
    "    if x==0: \n",
    "        return 1\n",
    "    \n",
    "    else:\n",
    "        return x * factorial(x-1)\n",
    "    \n",
    "    \n",
    "def fibonacy(x):\n",
    "    \n",
    "    if x==1 or x ==2:\n",
    "        return 1\n",
    "    \n",
    "    else:\n",
    "        return fibonacy(x-1) + fibonacy(x-2) \n",
    "    "
   ]
  },
  {
   "cell_type": "code",
   "execution_count": 129,
   "metadata": {},
   "outputs": [
    {
     "name": "stdout",
     "output_type": "stream",
     "text": [
      "24\n"
     ]
    }
   ],
   "source": [
    "result = factorial(4)\n",
    "print(result)"
   ]
  },
  {
   "cell_type": "code",
   "execution_count": 136,
   "metadata": {},
   "outputs": [
    {
     "name": "stdout",
     "output_type": "stream",
     "text": [
      "55\n"
     ]
    }
   ],
   "source": [
    "result = fibonacy(10)\n",
    "print(result)"
   ]
  },
  {
   "cell_type": "markdown",
   "metadata": {},
   "source": [
    "# **Smallest Circle (Subrounding circle arround Region - Algorithm)**"
   ]
  }
 ],
 "metadata": {
  "kernelspec": {
   "display_name": "Python 3",
   "language": "python",
   "name": "python3"
  },
  "language_info": {
   "codemirror_mode": {
    "name": "ipython",
    "version": 3
   },
   "file_extension": ".py",
   "mimetype": "text/x-python",
   "name": "python",
   "nbconvert_exporter": "python",
   "pygments_lexer": "ipython3",
   "version": "3.8.0"
  }
 },
 "nbformat": 4,
 "nbformat_minor": 2
}
